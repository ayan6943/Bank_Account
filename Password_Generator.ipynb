{
  "nbformat": 4,
  "nbformat_minor": 0,
  "metadata": {
    "colab": {
      "provenance": [],
      "authorship_tag": "ABX9TyMdfHzdBh55bHRHia/lOCho",
      "include_colab_link": true
    },
    "kernelspec": {
      "name": "python3",
      "display_name": "Python 3"
    },
    "language_info": {
      "name": "python"
    }
  },
  "cells": [
    {
      "cell_type": "markdown",
      "metadata": {
        "id": "view-in-github",
        "colab_type": "text"
      },
      "source": [
        "<a href=\"https://colab.research.google.com/github/ayan6943/utility-scripts/blob/ayan6943-patch-1/Untitled4.ipynb\" target=\"_parent\"><img src=\"https://colab.research.google.com/assets/colab-badge.svg\" alt=\"Open In Colab\"/></a>"
      ]
    },
    {
      "cell_type": "markdown",
      "source": [
        "# **Password Generator**"
      ],
      "metadata": {
        "id": "qFfEPql1R9ts"
      }
    },
    {
      "cell_type": "code",
      "execution_count": null,
      "metadata": {
        "colab": {
          "base_uri": "https://localhost:8080/"
        },
        "id": "irhohX3pZLya",
        "outputId": "6b7b99c2-01a5-47e5-ba6a-ff563b786f50"
      },
      "outputs": [
        {
          "output_type": "stream",
          "name": "stdout",
          "text": [
            "Enter the length of the password: 9\n",
            "Generated Password: 3*30]pU8L\n"
          ]
        }
      ],
      "source": [
        "import random\n",
        "import string\n",
        "\n",
        "length= int(input(\"Enter the length of the password: \"))\n",
        "\n",
        "if length < 8:\n",
        "    print(\"Password length should be at least 8 characters.\")\n",
        "else:\n",
        "    password_chars = []\n",
        "    password_chars.append(random.choice(string.ascii_uppercase))\n",
        "    password_chars.append(random.choice(string.ascii_lowercase))\n",
        "    password_chars.append(random.choice(string.digits))\n",
        "    password_chars.append(random.choice(string.punctuation))\n",
        "    remaining_length = length - 4  # Subtracting 4 for the characters already chosen\n",
        "    password_chars.extend(random.choice(string.ascii_letters + string.digits + string.punctuation) for _ in range(remaining_length))\n",
        "    random.shuffle(password_chars)\n",
        "    generated_password = ''.join(password_chars)\n",
        "\n",
        "    print(\"Generated Password:\", generated_password)\n"
      ]
    }
  ]
}
