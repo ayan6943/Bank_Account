{
  "nbformat": 4,
  "nbformat_minor": 0,
  "metadata": {
    "colab": {
      "provenance": [],
      "authorship_tag": "ABX9TyPoBrlqAgJmR8lO3H0nPtFV",
      "include_colab_link": true
    },
    "kernelspec": {
      "name": "python3",
      "display_name": "Python 3"
    },
    "language_info": {
      "name": "python"
    }
  },
  "cells": [
    {
      "cell_type": "markdown",
      "metadata": {
        "id": "view-in-github",
        "colab_type": "text"
      },
      "source": [
        "<a href=\"https://colab.research.google.com/github/ayan6943/utility-scripts/blob/ayan6943-patch-1/Bank_Account.ipynb\" target=\"_parent\"><img src=\"https://colab.research.google.com/assets/colab-badge.svg\" alt=\"Open In Colab\"/></a>"
      ]
    },
    {
      "cell_type": "code",
      "source": [
        "class Bank:\n",
        "    def __init__(self, balance, username):\n",
        "        self.balance = balance\n",
        "        self.username = username\n",
        "        self.transaction_history = []\n",
        "\n",
        "    def deposit(self):\n",
        "        amt = float(input('Enter the amount to deposit: '))\n",
        "        self.balance += amt\n",
        "        print('Deposit successful. Current balance:', self.balance)\n",
        "        self.transaction_history.append(f\"Deposited: {amt}\")\n",
        "\n",
        "    def withdraw(self):\n",
        "        amt = float(input('Enter the amount to withdraw: '))\n",
        "        if amt > self.balance:\n",
        "            print('Insufficient balance')\n",
        "        else:\n",
        "            self.balance -= amt\n",
        "            print('Withdrawal successful. Current balance:', self.balance)\n",
        "            self.transaction_history.append(f\"Withdrew: {amt}\")\n",
        "\n",
        "    def check_balance(self):\n",
        "        print(f'Account balance for {self.username}:', self.balance)\n",
        "\n",
        "    def display_transaction_history(self):\n",
        "        print(\"Transaction History:\")\n",
        "        for transaction in self.transaction_history:\n",
        "            print(transaction)\n",
        "\n",
        "    def start(self):\n",
        "        print(f\"Welcome, {self.username}!\")\n",
        "        while True:\n",
        "            print('Select a service:')\n",
        "            print('1. Deposit')\n",
        "            print('2. Withdraw')\n",
        "            print('3. Check account balance')\n",
        "            print('4. Display transaction history')\n",
        "            print('5. Quit')\n",
        "            ch = input('Enter the option: ')\n",
        "            if ch == '1':\n",
        "                self.deposit()\n",
        "            elif ch == '2':\n",
        "                self.withdraw()\n",
        "            elif ch == '3':\n",
        "                self.check_balance()\n",
        "            elif ch == '4':\n",
        "                self.display_transaction_history()\n",
        "            elif ch == '5':\n",
        "                print('Thank you for using our banking services!')\n",
        "                break\n",
        "            else:\n",
        "                print('Invalid choice. Please try again.')\n",
        "\n",
        "\n",
        "# Usage\n",
        "username = input(\"Enter your username: \")\n",
        "bank = Bank(0, username)\n",
        "bank.start()\n"
      ],
      "metadata": {
        "colab": {
          "base_uri": "https://localhost:8080/"
        },
        "id": "xWzrJAGEQE9b",
        "outputId": "be5a4d41-f857-4c0a-f876-16b30e31920f"
      },
      "execution_count": 2,
      "outputs": [
        {
          "output_type": "stream",
          "name": "stdout",
          "text": [
            "Enter your username: Syed Uzair Ayan Ahmed\n",
            "Welcome, Syed Uzair Ayan Ahmed!\n",
            "Select a service:\n",
            "1. Deposit\n",
            "2. Withdraw\n",
            "3. Check account balance\n",
            "4. Display transaction history\n",
            "5. Quit\n",
            "Enter the option: 1\n",
            "Enter the amount to deposit: 50000\n",
            "Deposit successful. Current balance: 50000.0\n",
            "Select a service:\n",
            "1. Deposit\n",
            "2. Withdraw\n",
            "3. Check account balance\n",
            "4. Display transaction history\n",
            "5. Quit\n",
            "Enter the option: 2\n",
            "Enter the amount to withdraw: 43000\n",
            "Withdrawal successful. Current balance: 7000.0\n",
            "Select a service:\n",
            "1. Deposit\n",
            "2. Withdraw\n",
            "3. Check account balance\n",
            "4. Display transaction history\n",
            "5. Quit\n",
            "Enter the option: 3\n",
            "Account balance for Syed Uzair Ayan Ahmed: 7000.0\n",
            "Select a service:\n",
            "1. Deposit\n",
            "2. Withdraw\n",
            "3. Check account balance\n",
            "4. Display transaction history\n",
            "5. Quit\n",
            "Enter the option: 4\n",
            "Transaction History:\n",
            "Deposited: 50000.0\n",
            "Withdrew: 43000.0\n",
            "Select a service:\n",
            "1. Deposit\n",
            "2. Withdraw\n",
            "3. Check account balance\n",
            "4. Display transaction history\n",
            "5. Quit\n",
            "Enter the option: 5\n",
            "Thank you for using our banking services!\n"
          ]
        }
      ]
    }
  ]
}